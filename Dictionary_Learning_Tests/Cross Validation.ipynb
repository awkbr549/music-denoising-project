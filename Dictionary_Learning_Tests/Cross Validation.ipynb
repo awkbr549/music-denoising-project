{
 "cells": [
  {
   "cell_type": "code",
   "execution_count": 1,
   "metadata": {},
   "outputs": [],
   "source": [
    "from os import stat\n",
    "import sys\n",
    "import scipy\n",
    "import numpy as np\n",
    "import matplotlib.pyplot as plt\n",
    "import wave\n",
    "import soundfile as sf\n",
    "import math\n",
    "from time import time\n",
    "\n",
    "from sklearn.decomposition import DictionaryLearning\n",
    "from sklearn.decomposition import MiniBatchDictionaryLearning\n",
    "from sklearn.feature_extraction.image import extract_patches_2d\n",
    "from sklearn.feature_extraction.image import reconstruct_from_patches_2d\n",
    "from sklearn.externals import joblib\n",
    " \n",
    "from playsound import playsound\n",
    "from scipy.io import wavfile"
   ]
  },
  {
   "cell_type": "code",
   "execution_count": 2,
   "metadata": {},
   "outputs": [],
   "source": [
    "def SNR(signal, noise):\n",
    "    #SNR is the ratio of signal and noise strength\n",
    "    #print('\\t' + str(signal.shape) + ' ' + str(noise.shape))\n",
    "    samples = signal.shape[0]*signal.shape[1]\n",
    "    if signal.shape != noise.shape:\n",
    "        print('error, signal and noise should be same size')\n",
    "        return\n",
    "    \n",
    "    #strength of a signal we measure the mean square value of the signal\n",
    "    s_str = 0.0\n",
    "    r_signal = signal.ravel()\n",
    "    r_noise = noise.ravel()\n",
    "    for s in r_signal:\n",
    "        s_str += s*s\n",
    "    s_str = math.sqrt(s_str / samples)\n",
    "    n_str = 0.0\n",
    "    for n in r_noise:\n",
    "        n_str += n*n\n",
    "    n_str = math.sqrt(n_str / samples)\n",
    "    return math.pow((s_str / n_str),2)"
   ]
  },
  {
   "cell_type": "code",
   "execution_count": 3,
   "metadata": {},
   "outputs": [],
   "source": [
    "#We need an element wise measure of the prediction \n",
    "#SSE provides a decent measure of the spread of errors\n",
    "def SSE(predicted, truth):\n",
    "    sse = 0\n",
    "    pred = predicted.ravel()\n",
    "    t = truth.ravel()\n",
    "    for i, p in enumerate(pred):\n",
    "        sse += math.pow((t[i] - p),2)\n",
    "    return sse"
   ]
  },
  {
   "cell_type": "code",
   "execution_count": 4,
   "metadata": {},
   "outputs": [],
   "source": [
    "distortedFiles = [\n",
    "    'distorted1.wav',\n",
    "    'distorted2.wav',\n",
    "    'distorted3.wav',\n",
    "    'distorted4.wav',\n",
    "    'distorted5.wav',\n",
    "    'distorted6.wav',\n",
    "    'distorted7.wav',\n",
    "    'distorted8.wav',\n",
    "    'distorted9.wav',\n",
    "    'distorted10.wav',\n",
    "    'distorted11.wav',\n",
    "    'distorted12.wav',\n",
    "    'distorted13.wav',\n",
    "    'distorted14.wav',\n",
    "    'distorted15.wav',\n",
    "    'distorted16.wav',\n",
    "    'distorted17.wav',\n",
    "    'distorted18.wav',\n",
    "    'distorted19.wav'\n",
    "]"
   ]
  },
  {
   "cell_type": "code",
   "execution_count": 5,
   "metadata": {},
   "outputs": [],
   "source": [
    "cleanFiles = [\n",
    "    'clean1.wav',\n",
    "    'clean2.wav',\n",
    "    'clean3.wav',\n",
    "    'clean4.wav',\n",
    "    'clean5.wav',\n",
    "    'clean6.wav',\n",
    "    'clean7.wav',\n",
    "    'clean8.wav',\n",
    "    'clean9.wav',\n",
    "    'clean10.wav',\n",
    "    'clean11.wav',\n",
    "    'clean12.wav',\n",
    "    'clean13.wav',\n",
    "    'clean14.wav',\n",
    "    'clean15.wav',\n",
    "    'clean16.wav',\n",
    "    'clean17.wav',\n",
    "    'clean18.wav',\n",
    "    'clean19.wav'\n",
    "]"
   ]
  },
  {
   "cell_type": "code",
   "execution_count": 6,
   "metadata": {},
   "outputs": [],
   "source": [
    "segmentFiles = [\n",
    "    'segment1.wav',\n",
    "    'segment2.wav',\n",
    "    'segment3.wav',\n",
    "    'segment4.wav',\n",
    "    'segment5.wav',\n",
    "    'segment6.wav',\n",
    "    'segment7.wav',\n",
    "    'segment8.wav',\n",
    "    'segment9.wav',\n",
    "    'segment10.wav',\n",
    "    'segment11.wav',\n",
    "    'segment12.wav',\n",
    "    'segment13.wav',\n",
    "    'segment14.wav',\n",
    "    'segment15.wav',\n",
    "    'segment16.wav',\n",
    "    'segment17.wav',\n",
    "    'segment18.wav',\n",
    "    'segment19.wav'\n",
    "]"
   ]
  },
  {
   "cell_type": "code",
   "execution_count": 7,
   "metadata": {},
   "outputs": [],
   "source": [
    "noiseFile = 'noise.wav'\n",
    "n, samplerate = sf.read(noiseFile)"
   ]
  },
  {
   "cell_type": "code",
   "execution_count": 8,
   "metadata": {},
   "outputs": [
    {
     "data": {
      "text/plain": [
       "(453723, 2)"
      ]
     },
     "execution_count": 8,
     "metadata": {},
     "output_type": "execute_result"
    }
   ],
   "source": [
    "n.shape"
   ]
  },
  {
   "cell_type": "code",
   "execution_count": 9,
   "metadata": {},
   "outputs": [],
   "source": [
    "test = n.copy()"
   ]
  },
  {
   "cell_type": "code",
   "execution_count": 10,
   "metadata": {},
   "outputs": [
    {
     "data": {
      "text/plain": [
       "array([[ 1.06811523e-03, -6.89697266e-03],\n",
       "       [ 3.08227539e-03,  2.62451172e-03],\n",
       "       [ 2.96020508e-03, -5.18798828e-03],\n",
       "       ...,\n",
       "       [-3.05175781e-05, -8.23974609e-03],\n",
       "       [ 5.49316406e-03, -7.32421875e-03],\n",
       "       [ 0.00000000e+00, -3.69262695e-03]])"
      ]
     },
     "execution_count": 10,
     "metadata": {},
     "output_type": "execute_result"
    }
   ],
   "source": [
    "test"
   ]
  },
  {
   "cell_type": "code",
   "execution_count": 11,
   "metadata": {},
   "outputs": [
    {
     "data": {
      "text/plain": [
       "(453724, 2)"
      ]
     },
     "execution_count": 11,
     "metadata": {},
     "output_type": "execute_result"
    }
   ],
   "source": [
    "add = [[0.0,0.0]]\n",
    "\n",
    "test = np.append(test,add,axis=0)\n",
    "test.shape"
   ]
  },
  {
   "cell_type": "code",
   "execution_count": 12,
   "metadata": {},
   "outputs": [
    {
     "data": {
      "text/plain": [
       "array([[ 0.00106812, -0.00689697],\n",
       "       [ 0.00308228,  0.00262451],\n",
       "       [ 0.00296021, -0.00518799],\n",
       "       ...,\n",
       "       [ 0.00549316, -0.00732422],\n",
       "       [ 0.        , -0.00369263],\n",
       "       [ 0.        ,  0.        ]])"
      ]
     },
     "execution_count": 12,
     "metadata": {},
     "output_type": "execute_result"
    }
   ],
   "source": [
    "test"
   ]
  },
  {
   "cell_type": "code",
   "execution_count": 16,
   "metadata": {},
   "outputs": [],
   "source": [
    "fix, sr = sf.read('clean17.wav')"
   ]
  },
  {
   "cell_type": "code",
   "execution_count": 17,
   "metadata": {},
   "outputs": [
    {
     "data": {
      "text/plain": [
       "(453722, 2)"
      ]
     },
     "execution_count": 17,
     "metadata": {},
     "output_type": "execute_result"
    }
   ],
   "source": [
    "fix.shape"
   ]
  },
  {
   "cell_type": "code",
   "execution_count": 18,
   "metadata": {},
   "outputs": [
    {
     "data": {
      "text/plain": [
       "array([[-1.36108398e-02, -4.39453125e-03],\n",
       "       [-1.41601562e-02, -2.65502930e-03],\n",
       "       [-1.39160156e-02, -1.83105469e-04],\n",
       "       ...,\n",
       "       [ 2.28179932e-01,  2.04895020e-01],\n",
       "       [ 1.87103271e-01,  1.76239014e-01],\n",
       "       [ 1.41082764e-01,  1.38214111e-01]])"
      ]
     },
     "execution_count": 18,
     "metadata": {},
     "output_type": "execute_result"
    }
   ],
   "source": [
    "fix"
   ]
  },
  {
   "cell_type": "code",
   "execution_count": 19,
   "metadata": {},
   "outputs": [
    {
     "data": {
      "text/plain": [
       "(453723, 2)"
      ]
     },
     "execution_count": 19,
     "metadata": {},
     "output_type": "execute_result"
    }
   ],
   "source": [
    "add = [[0.0,0.0]]\n",
    "\n",
    "fix = np.append(fix,add,axis=0)\n",
    "fix.shape"
   ]
  },
  {
   "cell_type": "code",
   "execution_count": 21,
   "metadata": {},
   "outputs": [],
   "source": [
    "sf.write('clean17.wav',fix, samplerate)"
   ]
  },
  {
   "cell_type": "code",
   "execution_count": null,
   "metadata": {},
   "outputs": [],
   "source": []
  },
  {
   "cell_type": "code",
   "execution_count": 34,
   "metadata": {},
   "outputs": [
    {
     "data": {
      "text/plain": [
       "(453723, 2)"
      ]
     },
     "execution_count": 34,
     "metadata": {},
     "output_type": "execute_result"
    }
   ],
   "source": [
    "fix, sr = sf.read('clean18bak.wav')\n",
    "fix = np.append(fix,add,axis=0)\n",
    "sf.write('clean18.wav',fix,samplerate)\n",
    "fix.shape"
   ]
  },
  {
   "cell_type": "code",
   "execution_count": 35,
   "metadata": {},
   "outputs": [
    {
     "data": {
      "text/plain": [
       "(453723, 2)"
      ]
     },
     "execution_count": 35,
     "metadata": {},
     "output_type": "execute_result"
    }
   ],
   "source": [
    "fix, sr = sf.read('clean19bak.wav')\n",
    "fix = np.append(fix,add,axis=0)\n",
    "sf.write('clean19.wav',fix,samplerate)\n",
    "fix.shape"
   ]
  },
  {
   "cell_type": "code",
   "execution_count": null,
   "metadata": {},
   "outputs": [],
   "source": []
  },
  {
   "cell_type": "code",
   "execution_count": 36,
   "metadata": {},
   "outputs": [
    {
     "name": "stdout",
     "output_type": "stream",
     "text": [
      "0 clean1.wav distorted1.wav segment1.wav\n",
      "(453723, 2)\t(453723, 2)\t(453723, 2)\n",
      "\t(453723, 2) (453723, 2)\n",
      "\t(453723, 2) (453723, 2)\n",
      "\t\tsnr_b 19.416 snr_a 34.159\n",
      "\t\tsse_b 360.852 sse_a 202.399\n",
      "1 clean2.wav distorted2.wav segment2.wav\n",
      "(453723, 2)\t(453723, 2)\t(453723, 2)\n",
      "\t(453723, 2) (453723, 2)\n",
      "\t(453723, 2) (453723, 2)\n",
      "\t\tsnr_b 28.344 snr_a 51.879\n",
      "\t\tsse_b 353.074 sse_a 194.544\n",
      "2 clean3.wav distorted3.wav segment3.wav\n",
      "(453723, 2)\t(453723, 2)\t(453723, 2)\n",
      "\t(453723, 2) (453723, 2)\n",
      "\t(453723, 2) (453723, 2)\n",
      "\t\tsnr_b 24.130 snr_a 23.988\n",
      "\t\tsse_b 310.898 sse_a 358.190\n",
      "3 clean4.wav distorted4.wav segment4.wav\n",
      "(453723, 2)\t(453723, 2)\t(453723, 2)\n",
      "\t(453723, 2) (453723, 2)\n",
      "\t(453723, 2) (453723, 2)\n",
      "\t\tsnr_b 32.556 snr_a 31.025\n",
      "\t\tsse_b 344.331 sse_a 373.658\n",
      "4 clean5.wav distorted5.wav segment5.wav\n",
      "(453723, 2)\t(453723, 2)\t(453723, 2)\n",
      "\t(453723, 2) (453723, 2)\n",
      "\t(453723, 2) (453723, 2)\n",
      "\t\tsnr_b 29.633 snr_a 12.741\n",
      "\t\tsse_b 346.605 sse_a 828.196\n",
      "5 clean6.wav distorted6.wav segment6.wav\n",
      "(453723, 2)\t(453723, 2)\t(453723, 2)\n",
      "\t(453723, 2) (453723, 2)\n",
      "\t(453723, 2) (453723, 2)\n",
      "\t\tsnr_b 48.376 snr_a 21.099\n",
      "\t\tsse_b 343.873 sse_a 816.435\n",
      "6 clean7.wav distorted7.wav segment7.wav\n",
      "(453723, 2)\t(453723, 2)\t(453723, 2)\n",
      "\t(453723, 2) (453723, 2)\n",
      "\t(453723, 2) (453723, 2)\n",
      "\t\tsnr_b 34.624 snr_a 26.653\n",
      "\t\tsse_b 311.235 sse_a 462.578\n",
      "7 clean8.wav distorted8.wav segment8.wav\n",
      "(453723, 2)\t(453723, 2)\t(453723, 2)\n",
      "\t(453723, 2) (453723, 2)\n",
      "\t(453723, 2) (453723, 2)\n",
      "\t\tsnr_b 37.651 snr_a 28.044\n",
      "\t\tsse_b 332.826 sse_a 478.070\n",
      "8 clean9.wav distorted9.wav segment9.wav\n",
      "(453723, 2)\t(453723, 2)\t(453723, 2)\n",
      "\t(453723, 2) (453723, 2)\n",
      "\t(453723, 2) (453723, 2)\n",
      "\t\tsnr_b 23.554 snr_a 21.258\n",
      "\t\tsse_b 332.296 sse_a 394.559\n",
      "9 clean10.wav distorted10.wav segment10.wav\n",
      "(453723, 2)\t(453723, 2)\t(453723, 2)\n",
      "\t(453723, 2) (453723, 2)\n",
      "\t(453723, 2) (453723, 2)\n",
      "\t\tsnr_b 45.890 snr_a 21.562\n",
      "\t\tsse_b 345.060 sse_a 757.850\n",
      "10 clean11.wav distorted11.wav segment11.wav\n",
      "(453723, 2)\t(453723, 2)\t(453723, 2)\n",
      "\t(453723, 2) (453723, 2)\n",
      "\t(453723, 2) (453723, 2)\n",
      "\t\tsnr_b 45.617 snr_a 25.227\n",
      "\t\tsse_b 369.062 sse_a 643.897\n",
      "11 clean12.wav distorted12.wav segment12.wav\n",
      "(453723, 2)\t(453723, 2)\t(453723, 2)\n",
      "\t(453723, 2) (453723, 2)\n",
      "\t(453723, 2) (453723, 2)\n",
      "\t\tsnr_b 23.296 snr_a 13.539\n",
      "\t\tsse_b 334.216 sse_a 612.711\n",
      "12 clean13.wav distorted13.wav segment13.wav\n",
      "(453723, 2)\t(453723, 2)\t(453723, 2)\n",
      "\t(453723, 2) (453723, 2)\n",
      "\t(453723, 2) (453723, 2)\n",
      "\t\tsnr_b 25.772 snr_a 29.959\n",
      "\t\tsse_b 341.190 sse_a 306.327\n",
      "13 clean14.wav distorted14.wav segment14.wav\n",
      "(453723, 2)\t(453723, 2)\t(453723, 2)\n",
      "\t(453723, 2) (453723, 2)\n",
      "\t(453723, 2) (453723, 2)\n",
      "\t\tsnr_b 41.925 snr_a 33.409\n",
      "\t\tsse_b 340.937 sse_a 446.861\n",
      "14 clean15.wav distorted15.wav segment15.wav\n",
      "(453723, 2)\t(453723, 2)\t(453723, 2)\n",
      "\t(453723, 2) (453723, 2)\n",
      "\t(453723, 2) (453723, 2)\n",
      "\t\tsnr_b 31.564 snr_a 29.606\n",
      "\t\tsse_b 319.489 sse_a 379.639\n",
      "15 clean16.wav distorted16.wav segment16.wav\n",
      "(453723, 2)\t(453723, 2)\t(453723, 2)\n",
      "\t(453723, 2) (453723, 2)\n",
      "\t(453723, 2) (453723, 2)\n",
      "\t\tsnr_b 33.664 snr_a 18.332\n",
      "\t\tsse_b 334.573 sse_a 653.899\n",
      "16 clean17.wav distorted17.wav segment17.wav\n",
      "(453723, 2)\t(453723, 2)\t(453723, 2)\n",
      "\t\t\t(453723, 2)\n",
      "\t(453723, 2) (453723, 2)\n",
      "\t(453723, 2) (453723, 2)\n",
      "\t\tsnr_b 43.451 snr_a 60.173\n",
      "\t\tsse_b 347.698 sse_a 257.136\n",
      "17 clean18.wav distorted18.wav segment18.wav\n",
      "(453723, 2)\t(453723, 2)\t(453723, 2)\n",
      "\t(453723, 2) (453723, 2)\n",
      "\t(453723, 2) (453723, 2)\n",
      "\t\tsnr_b 14.069 snr_a 55.975\n",
      "\t\tsse_b 346.269 sse_a 89.501\n",
      "18 clean19.wav distorted19.wav segment19.wav\n",
      "(453723, 2)\t(453723, 2)\t(453723, 2)\n",
      "\t(453723, 2) (453723, 2)\n",
      "\t(453723, 2) (453723, 2)\n",
      "\t\tsnr_b 0.000 snr_a 0.000\n",
      "\t\tsse_b 298.578 sse_a 34.867\n"
     ]
    }
   ],
   "source": [
    "snr_before_mean = 0.0\n",
    "snr_before_stdev = []\n",
    "sse_before_mean = 0.0\n",
    "sse_before_stdev = []\n",
    "snr_after_mean = 0.0\n",
    "snr_after_stdev = []\n",
    "sse_after_mean = 0.0\n",
    "sse_after_stdev = []\n",
    "\n",
    "for i, cFiles in enumerate(cleanFiles):\n",
    "    print(str(i) + ' ' + cleanFiles[i] + ' ' + distortedFiles[i] + ' ' + segmentFiles[i])\n",
    "    \n",
    "    c, samplerate = sf.read(cleanFiles[i])\n",
    "    d, samplerate = sf.read(distortedFiles[i])\n",
    "    s, samplerate = sf.read(segmentFiles[i])\n",
    "    \n",
    "    print(str(c.shape) + '\\t' + str(d.shape) + '\\t' + str(s.shape))\n",
    "    \n",
    "    #for some reason, this file is missing 1 sample, cut the loss and pad it.\n",
    "    if i == 16:\n",
    "        print('\\t\\t\\t' + str(c.shape))\n",
    "        pad = [[0.0,0.0]]\n",
    "        #c = np.append(test,pad,axis=0)\n",
    "    \n",
    "    snr_before = SNR(c, n) #snr of distorted file\n",
    "    sse_before = SSE(d, c) #sse of distorted file \n",
    "    \n",
    "    #accumulate accross the files for averageing\n",
    "    snr_before_mean += snr_before \n",
    "    snr_before_stdev.append(snr_before)\n",
    "    sse_before_mean += sse_before \n",
    "    sse_before_stdev.append(sse_before)\n",
    "    \n",
    "    #clean - restored = noise left over\n",
    "    n_after = c.copy()\n",
    "    n_after = c - s\n",
    "    \n",
    "    snr_after = SNR(c,n_after)\n",
    "    sse_after = SSE(s,c)\n",
    "    \n",
    "    snr_after_mean += snr_after\n",
    "    snr_after_stdev.append(snr_after)\n",
    "    sse_after_mean += sse_after\n",
    "    sse_after_stdev.append(sse_after)\n",
    "    print('\\t\\tsnr_b %.3f snr_a %.3f' % (snr_before, snr_after))\n",
    "    print('\\t\\tsse_b %.3f sse_a %.3f' % (sse_before, sse_after))\n",
    "    \n",
    "snr_before_mean = snr_before_mean / len(cleanFiles)\n",
    "snr_b_stdev = 0.0\n",
    "for x in snr_before_stdev:\n",
    "    snr_b_stdev += math.pow((x - snr_before_mean),2)\n",
    "snr_b_stdev = math.sqrt(snr_b_stdev / len(snr_before_stdev))\n",
    "\n",
    "sse_before_mean = sse_before_mean / len(cleanFiles)\n",
    "sse_b_stdev = 0.0\n",
    "for x in sse_before_stdev:\n",
    "    sse_b_stdev += math.pow((x - sse_before_mean),2)\n",
    "sse_b_stdev = math.sqrt(sse_b_stdev / len(sse_before_stdev))\n",
    "\n",
    "snr_after_mean = snr_after_mean / len(cleanFiles)\n",
    "snr_a_stdev = 0.0\n",
    "for x in snr_after_stdev:\n",
    "    snr_a_stdev += math.pow((x - snr_after_mean),2)\n",
    "snr_a_stdev = math.sqrt(snr_a_stdev / len(snr_after_stdev))\n",
    "\n",
    "sse_after_mean = sse_after_mean / len(cleanFiles)\n",
    "sse_a_stdev = 0.0\n",
    "for x in sse_after_stdev:\n",
    "    sse_a_stdev += math.pow((x - sse_after_mean),2)\n",
    "sse_a_stdev = math.sqrt(sse_a_stdev / len(sse_after_stdev))"
   ]
  },
  {
   "cell_type": "code",
   "execution_count": 38,
   "metadata": {},
   "outputs": [
    {
     "data": {
      "text/plain": [
       "30.712291893629807"
      ]
     },
     "execution_count": 38,
     "metadata": {},
     "output_type": "execute_result"
    }
   ],
   "source": [
    "snr_before_mean"
   ]
  },
  {
   "cell_type": "code",
   "execution_count": 41,
   "metadata": {},
   "outputs": [
    {
     "data": {
      "text/plain": [
       "11.826400542109752"
      ]
     },
     "execution_count": 41,
     "metadata": {},
     "output_type": "execute_result"
    }
   ],
   "source": [
    "snr_b_stdev"
   ]
  },
  {
   "cell_type": "code",
   "execution_count": 42,
   "metadata": {},
   "outputs": [
    {
     "data": {
      "text/plain": [
       "28.348891949246717"
      ]
     },
     "execution_count": 42,
     "metadata": {},
     "output_type": "execute_result"
    }
   ],
   "source": [
    "snr_after_mean"
   ]
  },
  {
   "cell_type": "code",
   "execution_count": 43,
   "metadata": {},
   "outputs": [
    {
     "data": {
      "text/plain": [
       "14.41474449474019"
      ]
     },
     "execution_count": 43,
     "metadata": {},
     "output_type": "execute_result"
    }
   ],
   "source": [
    "snr_a_stdev"
   ]
  },
  {
   "cell_type": "code",
   "execution_count": 39,
   "metadata": {},
   "outputs": [
    {
     "data": {
      "text/plain": [
       "337.52960040616364"
      ]
     },
     "execution_count": 39,
     "metadata": {},
     "output_type": "execute_result"
    }
   ],
   "source": [
    "sse_before_mean"
   ]
  },
  {
   "cell_type": "code",
   "execution_count": 44,
   "metadata": {},
   "outputs": [
    {
     "data": {
      "text/plain": [
       "17.049181825058678"
      ]
     },
     "execution_count": 44,
     "metadata": {},
     "output_type": "execute_result"
    }
   ],
   "source": [
    "sse_b_stdev"
   ]
  },
  {
   "cell_type": "code",
   "execution_count": 40,
   "metadata": {},
   "outputs": [
    {
     "data": {
      "text/plain": [
       "436.3851696607706"
      ]
     },
     "execution_count": 40,
     "metadata": {},
     "output_type": "execute_result"
    }
   ],
   "source": [
    "sse_after_mean"
   ]
  },
  {
   "cell_type": "code",
   "execution_count": 45,
   "metadata": {},
   "outputs": [
    {
     "data": {
      "text/plain": [
       "227.5888394743151"
      ]
     },
     "execution_count": 45,
     "metadata": {},
     "output_type": "execute_result"
    }
   ],
   "source": [
    "sse_a_stdev"
   ]
  },
  {
   "cell_type": "code",
   "execution_count": null,
   "metadata": {},
   "outputs": [],
   "source": []
  }
 ],
 "metadata": {
  "kernelspec": {
   "display_name": "python37",
   "language": "python",
   "name": "python37"
  },
  "language_info": {
   "codemirror_mode": {
    "name": "ipython",
    "version": 3
   },
   "file_extension": ".py",
   "mimetype": "text/x-python",
   "name": "python",
   "nbconvert_exporter": "python",
   "pygments_lexer": "ipython3",
   "version": "3.7.0"
  }
 },
 "nbformat": 4,
 "nbformat_minor": 2
}
