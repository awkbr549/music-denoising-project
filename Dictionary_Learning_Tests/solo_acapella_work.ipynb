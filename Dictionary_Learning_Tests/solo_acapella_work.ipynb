{
 "cells": [
  {
   "cell_type": "code",
   "execution_count": 1,
   "metadata": {},
   "outputs": [],
   "source": [
    "#To do\n",
    "#SNR function --- DID SSE instead\n",
    "#work with the music\n",
    "#learn on clean half, denoise distorted half\n",
    "#learn on distorted all, denoise all\n",
    "\n",
    "#learn dictionary on non-noise Duet Chorus 176-210s solo_acapella.wav\n"
   ]
  },
  {
   "cell_type": "code",
   "execution_count": 2,
   "metadata": {},
   "outputs": [],
   "source": [
    "from os import stat\n",
    "import sys\n",
    "import scipy\n",
    "import numpy as np\n",
    "import matplotlib.pyplot as plt\n",
    "import wave\n",
    "import soundfile as sf\n",
    "import math\n",
    "from time import time\n",
    "\n",
    "from sklearn.decomposition import DictionaryLearning\n",
    "from sklearn.decomposition import MiniBatchDictionaryLearning\n",
    "from sklearn.feature_extraction.image import extract_patches_2d\n",
    "from sklearn.feature_extraction.image import reconstruct_from_patches_2d\n",
    "from sklearn.externals import joblib\n",
    " \n",
    "from playsound import playsound\n",
    "from scipy.io import wavfile"
   ]
  },
  {
   "cell_type": "code",
   "execution_count": 3,
   "metadata": {},
   "outputs": [],
   "source": [
    "def plotFile(filename):\n",
    "    #credit to http://gree2.github.io/python/2015/04/14/python-code-read-wave-file-and-plot\n",
    "    wav_file = wave.open(filename,'rb')\n",
    "    params = wav_file.getparams()\n",
    "    \n",
    "    nchannels, sampwidth, framerate, nframes = params[:4]\n",
    "\n",
    "    str_data = wav_file.readframes(nframes)\n",
    "    wav_file.close()\n",
    "    \n",
    "    wave_data = np.frombuffer(str_data, dtype=np.short)\n",
    "    wave_data.shape = -1,2\n",
    "    wave_data = wave_data.T\n",
    "    time = np.arange(0,nframes)*(1.0/framerate)\n",
    "\n",
    "    titlech1 = filename + ' channel 1'\n",
    "    titlech2 = filename + ' channel 2'\n",
    "    \n",
    "    duration = nframes/float(framerate)\n",
    "    xticks = np.arange(0, duration, 10)\n",
    "    plt.figure(figsize=(12,6))\n",
    "    plt.subplot(211).set_xticks(xticks)\n",
    "    plt.plot(time, wave_data[0])\n",
    "    plt.title(titlech1, loc='left')\n",
    "    \n",
    "    plt.subplot(212).set_xticks(xticks)\n",
    "    plt.plot(time, wave_data[1], c=\"g\")\n",
    "    plt.xlabel(\"time (seconds)\")\n",
    "    plt.title(titlech2, loc='left')\n",
    "    plt.show()\n",
    "    \n",
    "    #playsound(filename)\n",
    "    return"
   ]
  },
  {
   "cell_type": "code",
   "execution_count": 4,
   "metadata": {},
   "outputs": [],
   "source": [
    "def compareFiles(denoised,distorted,clean,title):\n",
    "    \n",
    "    print('-------------------')\n",
    "    print('-------------------')\n",
    "    print(title)\n",
    "    s = SSE(denoised,clean)\n",
    "    print('SSE (norm: %.2f)' % s)\n",
    "    print('denoised file')\n",
    "    file = title + '.wav'\n",
    "    sf.write(file,denoised,samplerate)\n",
    "    plotFile(file)\n",
    "    \n",
    "    print('distorted file')\n",
    "    plotFile('distorted.wav')\n",
    "    \n",
    "    print('clean original')\n",
    "    plotFile('clean_2')\n",
    "    \n",
    "    return\n",
    "    "
   ]
  },
  {
   "cell_type": "code",
   "execution_count": 5,
   "metadata": {},
   "outputs": [],
   "source": [
    "#signal will be distorted by a white noise and crackle\n",
    "#wf is the white noise factor (0.005 is a good start)\n",
    "#cf is the crackle noise factor (1000)\n",
    "def distort(signal):#,wf,cf):\n",
    "    height, width = signal.shape\n",
    "    #add white noise\n",
    "    signal += 0.005 * np.random.randn(height, width)\n",
    "    \n",
    "    #add crackle noise\n",
    "    for s in range(0,height):\n",
    "        for c in range(0,width):\n",
    "            if (np.random.randint(1, 1000) == 1):\n",
    "                signal[s][c] = 2.0*np.random.random() - 1.0\n",
    "                \n",
    "    return signal"
   ]
  },
  {
   "cell_type": "code",
   "execution_count": 6,
   "metadata": {},
   "outputs": [],
   "source": [
    "#We need an element wise measure of the prediction \n",
    "#SSE provides a decent measure of the spread of errors\n",
    "def SSE(predicted, truth):\n",
    "    sse = 0\n",
    "    pred = predicted.ravel()\n",
    "    t = truth.ravel()\n",
    "    for i, p in enumerate(pred):\n",
    "        sse += math.pow((t[i] - p),2)\n",
    "    print(sse)\n",
    "    return"
   ]
  },
  {
   "cell_type": "code",
   "execution_count": 7,
   "metadata": {},
   "outputs": [],
   "source": [
    "def SNR(signal, noise):\n",
    "    #SNR is the ratio of signal and noise strength\n",
    "    samples = signal.shape[0]*signal.shape[1]\n",
    "    if signal.shape != noise.shape:\n",
    "        print('error, signal and noise should be same size')\n",
    "        return\n",
    "    \n",
    "    #strength of a signal we measure the mean square value of the signal\n",
    "    s_str = 0.0\n",
    "    r_signal = signal.ravel()\n",
    "    r_noise = noise.ravel()\n",
    "    for s in r_signal:\n",
    "        s_str += s*s\n",
    "    s_str = s_str / samples\n",
    "    #print(s_str)\n",
    "    n_str = 0.0\n",
    "    for n in r_noise:\n",
    "        n_str += n*n\n",
    "    n_str = n_str / samples\n",
    "    #print(n_str)\n",
    "    return s_str / n_str"
   ]
  },
  {
   "cell_type": "code",
   "execution_count": 8,
   "metadata": {},
   "outputs": [],
   "source": [
    "def learnDictionaryMini(learn,name,n_comp,algo,batch_size):\n",
    "    t0 = time()\n",
    "    ###pre-process sample from which to learn\n",
    "    #Extract patches\n",
    "    patch_size = (100,2) #both channels together\n",
    "    patches = extract_patches_2d(learn,patch_size)\n",
    "    patches = patches.reshape(patches.shape[0], -1)\n",
    "    #normalize patches\n",
    "    patches -= np.mean(patches, axis=0)\n",
    "    patches /= np.std(patches, axis=0)\n",
    "    \n",
    "    #Learn dictionary\n",
    "    print('learning the dictionary, %d components, using %s with batch size 0f %s' % (n_comp, algo,batch_size))\n",
    "    #dictionary = DictionaryLearning(n_components=n_comp,fit_algorithm=algo, alpha=1, n_jobs=-1)\n",
    "    dictionary = MiniBatchDictionaryLearning(n_components=n_comp,fit_algorithm=algo,batch_size=batch_size, alpha=1, n_jobs=-1)\n",
    "    model = dictionary.fit(patches)\n",
    "    print('finished learning dictionary')\n",
    "    \n",
    "    #Save the model\n",
    "    file_name = name + '-' + str(n_comp) + '-' + algo + '-' + str(batch_size) + '.sav'\n",
    "    joblib.dump(model,file_name)\n",
    "    \n",
    "    print('done in %.2fs' % (time() - t0))\n",
    "    print('saving the file to ' + file_name)\n",
    "    return model"
   ]
  },
  {
   "cell_type": "code",
   "execution_count": 29,
   "metadata": {},
   "outputs": [],
   "source": [
    "def learnDictionary(learn,name,n_comp,algo):\n",
    "    t0 = time()\n",
    "    ###pre-process sample from which to learn\n",
    "    #Extract patches\n",
    "    patch_size = (100,2) #both channels together\n",
    "    patches = extract_patches_2d(learn,patch_size)\n",
    "    patches = patches.reshape(patches.shape[0], -1)\n",
    "    #normalize patches\n",
    "    patches -= np.mean(patches, axis=0)\n",
    "    patches /= np.std(patches, axis=0)\n",
    "    \n",
    "    #Learn dictionary\n",
    "    print('learning the dictionary, %d components, using %s with full data set' % (n_comp, algo))\n",
    "    dictionary = DictionaryLearning(n_components=n_comp,fit_algorithm=algo, alpha=1, n_jobs=-1, max_iter=5000)\n",
    "    model = dictionary.fit(patches)\n",
    "    print('finished learning dictionary')\n",
    "    \n",
    "    #Save the model\n",
    "    file_name = name + '-' + str(n_comp) + '-' + algo + '-' + '.sav'\n",
    "    joblib.dump(model,file_name)\n",
    "    \n",
    "    print('done in %.2fs' % (time() - t0))\n",
    "    print('saving the file to ' + file_name)\n",
    "    return model"
   ]
  },
  {
   "cell_type": "code",
   "execution_count": 10,
   "metadata": {},
   "outputs": [],
   "source": [
    "def testSplit(test_set):\n",
    "    #split test_set into 10 second clips\n",
    "    split = np.array_split(test_set,int((test_set.shape[0] / samplerate ) / 10))\n",
    "    \n",
    "    return split"
   ]
  },
  {
   "cell_type": "code",
   "execution_count": 11,
   "metadata": {},
   "outputs": [],
   "source": [
    "filename='D:\\Documents-data\\Advanced Data Analytics\\Group Project\\Dictionary_Learning_Tests\\solo_acapella.wav'\n",
    "#filename='music-denoising-project\\input\\Ring01.wav'"
   ]
  },
  {
   "cell_type": "code",
   "execution_count": 12,
   "metadata": {},
   "outputs": [],
   "source": [
    "data, samplerate = sf.read(filename) #Sound file returns float64 encoding"
   ]
  },
  {
   "cell_type": "code",
   "execution_count": 13,
   "metadata": {},
   "outputs": [],
   "source": [
    "#plotFile(filename)"
   ]
  },
  {
   "cell_type": "code",
   "execution_count": 14,
   "metadata": {},
   "outputs": [],
   "source": [
    "#for solo_acapella train is the last chorus that includes both voices\n",
    "start = 176 #in seconds\n",
    "fin = 212 #in seconds\n",
    "train = data[start*samplerate:fin*samplerate]\n",
    "#sf.write('solo_train.wav',train,samplerate)\n",
    "#plotFile('solo_train.wav')"
   ]
  },
  {
   "cell_type": "code",
   "execution_count": 15,
   "metadata": {},
   "outputs": [],
   "source": [
    "a = 3"
   ]
  },
  {
   "cell_type": "code",
   "execution_count": 16,
   "metadata": {},
   "outputs": [],
   "source": [
    "del a"
   ]
  },
  {
   "cell_type": "code",
   "execution_count": 17,
   "metadata": {},
   "outputs": [
    {
     "ename": "NameError",
     "evalue": "name 'a' is not defined",
     "output_type": "error",
     "traceback": [
      "\u001b[1;31m---------------------------------------------------------------------------\u001b[0m",
      "\u001b[1;31mNameError\u001b[0m                                 Traceback (most recent call last)",
      "\u001b[1;32m<ipython-input-17-3f786850e387>\u001b[0m in \u001b[0;36m<module>\u001b[1;34m\u001b[0m\n\u001b[1;32m----> 1\u001b[1;33m \u001b[0ma\u001b[0m\u001b[1;33m\u001b[0m\u001b[0m\n\u001b[0m",
      "\u001b[1;31mNameError\u001b[0m: name 'a' is not defined"
     ]
    }
   ],
   "source": [
    "a"
   ]
  },
  {
   "cell_type": "code",
   "execution_count": 27,
   "metadata": {},
   "outputs": [
    {
     "name": "stdout",
     "output_type": "stream",
     "text": [
      "learning the dictionary, 500 components, using cd with batch size 0f 1000\n"
     ]
    },
    {
     "name": "stderr",
     "output_type": "stream",
     "text": [
      "C:\\Python3\\lib\\site-packages\\sklearn\\linear_model\\coordinate_descent.py:491: ConvergenceWarning: Objective did not converge. You might want to increase the number of iterations. Fitting data with very small alpha may cause precision problems.\n",
      "  ConvergenceWarning)\n"
     ]
    },
    {
     "name": "stdout",
     "output_type": "stream",
     "text": [
      "finished learning dictionary\n",
      "done in 2451.57s\n",
      "saving the file to solo_acapella_176-212-500-cd-1000.sav\n"
     ]
    }
   ],
   "source": [
    "model = learnDictionaryMini(train,'solo_acapella_176-212',500,'cd',1000)"
   ]
  },
  {
   "cell_type": "code",
   "execution_count": 28,
   "metadata": {},
   "outputs": [],
   "source": [
    "del model"
   ]
  },
  {
   "cell_type": "code",
   "execution_count": 30,
   "metadata": {},
   "outputs": [
    {
     "name": "stdout",
     "output_type": "stream",
     "text": [
      "learning the dictionary, 500 components, using cd with batch size 0f 1000\n"
     ]
    },
    {
     "name": "stderr",
     "output_type": "stream",
     "text": [
      "C:\\Python3\\lib\\site-packages\\sklearn\\linear_model\\coordinate_descent.py:491: ConvergenceWarning: Objective did not converge. You might want to increase the number of iterations. Fitting data with very small alpha may cause precision problems.\n",
      "  ConvergenceWarning)\n"
     ]
    },
    {
     "name": "stdout",
     "output_type": "stream",
     "text": [
      "finished learning dictionary\n",
      "done in 2469.71s\n",
      "saving the file to solo_acapella_176-212_again-500-cd-1000.sav\n"
     ]
    }
   ],
   "source": [
    "model = learnDictionaryMini(train,'solo_acapella_176-212_again',500,'cd',1000)"
   ]
  },
  {
   "cell_type": "code",
   "execution_count": null,
   "metadata": {},
   "outputs": [],
   "source": [
    "del model"
   ]
  },
  {
   "cell_type": "code",
   "execution_count": null,
   "metadata": {},
   "outputs": [],
   "source": [
    "model = learnDictionary(train,'solo_acapella_176-212d',500,'lars')"
   ]
  },
  {
   "cell_type": "code",
   "execution_count": null,
   "metadata": {},
   "outputs": [],
   "source": []
  },
  {
   "cell_type": "code",
   "execution_count": 14,
   "metadata": {},
   "outputs": [],
   "source": [
    "#test_set is the rest of the song clipped together\n",
    "#we split it into seperate 10s intervals for testing\n",
    "#for solo_acapella, it removes the last chorus that we train on\n",
    "first = data[0:start*samplerate]\n",
    "second = data[fin*samplerate:]\n",
    "test_set = np.concatenate((first,second))\n",
    "#sf.write('solo_test.wav',test_set,samplerate)\n",
    "#plotFile('solo_test.wav')"
   ]
  },
  {
   "cell_type": "code",
   "execution_count": null,
   "metadata": {},
   "outputs": [],
   "source": []
  },
  {
   "cell_type": "code",
   "execution_count": null,
   "metadata": {},
   "outputs": [],
   "source": []
  },
  {
   "cell_type": "code",
   "execution_count": 16,
   "metadata": {},
   "outputs": [],
   "source": [
    "tests = testSplit(test_set)"
   ]
  },
  {
   "cell_type": "code",
   "execution_count": 17,
   "metadata": {},
   "outputs": [],
   "source": [
    "#model = learnDictionary(train,'solo_acapella_176-212',100,'cd')\n",
    "#model = joblib.load('solo_acapella_176-212.sav')"
   ]
  },
  {
   "cell_type": "code",
   "execution_count": 18,
   "metadata": {},
   "outputs": [
    {
     "data": {
      "text/plain": [
       "array([[0.00000000e+00, 0.00000000e+00],\n",
       "       [0.00000000e+00, 0.00000000e+00],\n",
       "       [0.00000000e+00, 0.00000000e+00],\n",
       "       ...,\n",
       "       [0.00000000e+00, 6.10351562e-05],\n",
       "       [0.00000000e+00, 9.15527344e-05],\n",
       "       [0.00000000e+00, 6.10351562e-05]])"
      ]
     },
     "execution_count": 18,
     "metadata": {},
     "output_type": "execute_result"
    }
   ],
   "source": [
    "tests[0]"
   ]
  },
  {
   "cell_type": "code",
   "execution_count": 19,
   "metadata": {},
   "outputs": [
    {
     "name": "stdout",
     "output_type": "stream",
     "text": [
      "performing test segment 0\n",
      "2.5937137574848315e-09\n",
      "0.0003574986449917389\n",
      "\tSNR before denoise = 0.000\n",
      "\tpre-processing test segment 0\n",
      "\tlearning the sparse code for test 0\n",
      "\trestoring test segment 0\n",
      "2.5937137574848315e-09\n",
      "4.16052306594372e-05\n",
      "\ttest 0 done with SNR of 0.000 completed in 350.87s\n",
      "performing test segment 1\n",
      "0.007618802999146967\n",
      "0.000397656818635589\n",
      "\tSNR before denoise = 19.159\n",
      "\tpre-processing test segment 1\n",
      "\tlearning the sparse code for test 1\n",
      "\trestoring test segment 1\n",
      "0.007618802999146967\n",
      "0.00022304152068556305\n",
      "\ttest 1 done with SNR of 34.159 completed in 343.97s\n",
      "performing test segment 2\n",
      "0.011122211087601702\n",
      "0.0003890853288915639\n",
      "\tSNR before denoise = 28.586\n",
      "\tpre-processing test segment 2\n",
      "\tlearning the sparse code for test 2\n",
      "\trestoring test segment 2\n",
      "0.011122211087601702\n",
      "0.0002143847767931376\n",
      "\ttest 2 done with SNR of 51.880 completed in 341.37s\n",
      "performing test segment 3\n",
      "0.009468795585850448\n",
      "0.00034260683653251765\n",
      "\tSNR before denoise = 27.637\n",
      "\tpre-processing test segment 3\n",
      "\tlearning the sparse code for test 3\n",
      "\trestoring test segment 3\n",
      "0.009468795585850448\n",
      "0.0003947238136212318\n",
      "\ttest 3 done with SNR of 23.988 completed in 336.14s\n",
      "performing test segment 4\n",
      "0.012775341093744008\n",
      "0.0003794508093218041\n",
      "\tSNR before denoise = 33.668\n",
      "\tpre-processing test segment 4\n",
      "\tlearning the sparse code for test 4\n",
      "\trestoring test segment 4\n",
      "0.012775341093744008\n",
      "0.00041176787181358124\n",
      "\ttest 4 done with SNR of 31.026 completed in 336.07s\n",
      "performing test segment 5\n",
      "0.011628158130869213\n",
      "0.00038195724482478435\n",
      "\tSNR before denoise = 30.444\n",
      "\tpre-processing test segment 5\n",
      "\tlearning the sparse code for test 5\n",
      "\trestoring test segment 5\n",
      "0.011628158130869213\n",
      "0.000912666249492395\n",
      "\ttest 5 done with SNR of 12.741 completed in 335.27s\n",
      "performing test segment 6\n",
      "0.01898303785509268\n",
      "0.0003789460225398895\n",
      "\tSNR before denoise = 50.094\n",
      "\tpre-processing test segment 6\n",
      "\tlearning the sparse code for test 6\n",
      "\trestoring test segment 6\n",
      "0.01898303785509268\n",
      "0.0008997070169517466\n",
      "\ttest 6 done with SNR of 21.099 completed in 337.10s\n",
      "performing test segment 7\n",
      "0.01358655696092709\n",
      "0.00034297873397302024\n",
      "\tSNR before denoise = 39.613\n",
      "\tpre-processing test segment 7\n",
      "\tlearning the sparse code for test 7\n",
      "\trestoring test segment 7\n",
      "0.01358655696092709\n",
      "0.0005097584713450198\n",
      "\ttest 7 done with SNR of 26.653 completed in 333.42s\n",
      "performing test segment 8\n",
      "0.014774589339837017\n",
      "0.00036677108162027917\n",
      "\tSNR before denoise = 40.283\n",
      "\tpre-processing test segment 8\n",
      "\tlearning the sparse code for test 8\n",
      "\trestoring test segment 8\n",
      "0.014774589339837017\n",
      "0.0005268300930021922\n",
      "\ttest 8 done with SNR of 28.044 completed in 332.87s\n",
      "performing test segment 9\n",
      "0.009242840994384669\n",
      "0.0003661870813646062\n",
      "\tSNR before denoise = 25.241\n",
      "\tpre-processing test segment 9\n",
      "\tlearning the sparse code for test 9\n",
      "\trestoring test segment 9\n",
      "0.009242840994384669\n",
      "0.00043480074099771647\n",
      "\ttest 9 done with SNR of 21.258 completed in 331.29s\n",
      "performing test segment 10\n",
      "0.01800745676920183\n",
      "0.00038025392244431694\n",
      "\tSNR before denoise = 47.356\n",
      "\tpre-processing test segment 10\n",
      "\tlearning the sparse code for test 10\n",
      "\trestoring test segment 10\n",
      "0.01800745676920183\n",
      "0.0008351471813537616\n",
      "\ttest 10 done with SNR of 21.562 completed in 333.47s\n",
      "performing test segment 11\n",
      "0.017900501729251773\n",
      "0.00040670364387261924\n",
      "\tSNR before denoise = 44.014\n",
      "\tpre-processing test segment 11\n",
      "\tlearning the sparse code for test 11\n",
      "\trestoring test segment 11\n",
      "0.017900501729251773\n",
      "0.0007095708382930148\n",
      "\ttest 11 done with SNR of 25.227 completed in 356.32s\n",
      "performing test segment 12\n",
      "0.00914164963877019\n",
      "0.0003683046025333763\n",
      "\tSNR before denoise = 24.821\n",
      "\tpre-processing test segment 12\n",
      "\tlearning the sparse code for test 12\n",
      "\trestoring test segment 12\n",
      "0.00914164963877019\n",
      "0.0006752047224105368\n",
      "\ttest 12 done with SNR of 13.539 completed in 343.40s\n",
      "performing test segment 13\n",
      "0.01011325795841214\n",
      "0.000375990168030366\n",
      "\tSNR before denoise = 26.898\n",
      "\tpre-processing test segment 13\n",
      "\tlearning the sparse code for test 13\n",
      "\trestoring test segment 13\n",
      "0.01011325795841214\n",
      "0.00033757143274413225\n",
      "\ttest 13 done with SNR of 29.959 completed in 335.53s\n",
      "performing test segment 14\n",
      "0.016451737900155562\n",
      "0.00037571060551637653\n",
      "\tSNR before denoise = 43.788\n",
      "\tpre-processing test segment 14\n",
      "\tlearning the sparse code for test 14\n",
      "\trestoring test segment 14\n",
      "0.016451737900155562\n",
      "0.0004924377967684488\n",
      "\ttest 14 done with SNR of 33.409 completed in 340.53s\n",
      "performing test segment 15\n",
      "0.01238610642214237\n",
      "0.0003520738502916254\n",
      "\tSNR before denoise = 35.180\n",
      "\tpre-processing test segment 15\n",
      "\tlearning the sparse code for test 15\n",
      "\trestoring test segment 15\n",
      "0.01238610642214237\n",
      "0.0004183592962015771\n",
      "\ttest 15 done with SNR of 29.606 completed in 349.53s\n",
      "performing test segment 16\n",
      "0.013209949442610135\n",
      "0.0003686969155298403\n",
      "\tSNR before denoise = 35.829\n",
      "\tpre-processing test segment 16\n",
      "\tlearning the sparse code for test 16\n",
      "\trestoring test segment 16\n",
      "0.013209949442610135\n",
      "0.0007205928102764216\n",
      "\ttest 16 done with SNR of 18.332 completed in 341.70s\n",
      "performing test segment 17\n",
      "0.01705067326420002\n",
      "0.00038316163642613995\n",
      "\tSNR before denoise = 44.500\n",
      "\tpre-processing test segment 17\n",
      "\tlearning the sparse code for test 17\n",
      "\trestoring test segment 17\n",
      "0.01705067326420002\n",
      "0.00028336401954248404\n",
      "\ttest 17 done with SNR of 60.172 completed in 329.51s\n",
      "performing test segment 18\n",
      "0.005520849482457157\n",
      "0.0003815871341991116\n",
      "\tSNR before denoise = 14.468\n",
      "\tpre-processing test segment 18\n",
      "\tlearning the sparse code for test 18\n",
      "\trestoring test segment 18\n",
      "0.005520849482457157\n",
      "9.863040750788705e-05\n",
      "\ttest 18 done with SNR of 55.975 completed in 323.47s\n",
      "performing test segment 19\n",
      "2.288783080443508e-11\n",
      "0.00032903151778541906\n",
      "\tSNR before denoise = 0.000\n",
      "\tpre-processing test segment 19\n",
      "\tlearning the sparse code for test 19\n",
      "\trestoring test segment 19\n",
      "2.288783080443508e-11\n",
      "3.842256723001937e-05\n",
      "\ttest 19 done with SNR of 0.000 completed in 319.92s\n"
     ]
    },
    {
     "ename": "TypeError",
     "evalue": "unsupported operand type(s) for -: 'float' and 'builtin_function_or_method'",
     "output_type": "error",
     "traceback": [
      "\u001b[1;31m---------------------------------------------------------------------------\u001b[0m",
      "\u001b[1;31mTypeError\u001b[0m                                 Traceback (most recent call last)",
      "\u001b[1;32m<ipython-input-19-0080e3e8c967>\u001b[0m in \u001b[0;36m<module>\u001b[1;34m\u001b[0m\n\u001b[0;32m     62\u001b[0m \u001b[0msnr_a_stdev\u001b[0m \u001b[1;33m=\u001b[0m \u001b[0mmath\u001b[0m\u001b[1;33m.\u001b[0m\u001b[0msqrt\u001b[0m\u001b[1;33m(\u001b[0m\u001b[0msnr_a_stdev\u001b[0m \u001b[1;33m/\u001b[0m \u001b[0mlen\u001b[0m\u001b[1;33m(\u001b[0m\u001b[0msnr_after_stdev\u001b[0m\u001b[1;33m)\u001b[0m\u001b[1;33m)\u001b[0m\u001b[1;33m\u001b[0m\u001b[0m\n\u001b[0;32m     63\u001b[0m \u001b[1;33m\u001b[0m\u001b[0m\n\u001b[1;32m---> 64\u001b[1;33m \u001b[0mprint\u001b[0m\u001b[1;33m(\u001b[0m\u001b[1;34m'TEST COMPLETE in %.2fs\\nMean SNR before denoising %.3f\\tStd Dev %.3f\\nMean SNR after denoising %.3f\\tStd Dev %.3f'\u001b[0m \u001b[1;33m%\u001b[0m \u001b[1;33m(\u001b[0m\u001b[1;33m(\u001b[0m\u001b[0mtime\u001b[0m\u001b[1;33m(\u001b[0m\u001b[1;33m)\u001b[0m\u001b[1;33m-\u001b[0m\u001b[0mt0\u001b[0m\u001b[1;33m)\u001b[0m\u001b[1;33m,\u001b[0m\u001b[0msnr_before_mean\u001b[0m\u001b[1;33m,\u001b[0m \u001b[0msnr_b_stdev\u001b[0m\u001b[1;33m,\u001b[0m\u001b[0msnr_after_mean\u001b[0m\u001b[1;33m,\u001b[0m \u001b[0msnr_a_stdev\u001b[0m\u001b[1;33m)\u001b[0m\u001b[1;33m)\u001b[0m\u001b[1;33m\u001b[0m\u001b[0m\n\u001b[0m",
      "\u001b[1;31mTypeError\u001b[0m: unsupported operand type(s) for -: 'float' and 'builtin_function_or_method'"
     ]
    }
   ],
   "source": [
    "model.set_params(transform_algorithm='omp',transform_n_nonzero_coefs=16)\n",
    "t0 = time()\n",
    "snr_before_mean = 0.0\n",
    "snr_before_stdev = []\n",
    "snr_after_mean = 0.0\n",
    "snr_after_stdev = []\n",
    "for i,test in enumerate(tests):\n",
    "    print('performing test segment %d' %i)\n",
    "    c = test.copy()\n",
    "    t = test.copy()\n",
    "    t = distort(t)\n",
    "    n = t - c\n",
    "    snr_before = SNR(c,n) \n",
    "    snr_before_mean += snr_before\n",
    "    snr_before_stdev.append(snr_before)\n",
    "    cl = 'clean' + str(i) + '.wav'\n",
    "    sf.write(cl,c,samplerate)\n",
    "    dist = 'distorted' + str(i) + '.wav'\n",
    "    sf.write(dist,t,samplerate)\n",
    "    print('\\tSNR before denoise = %.3f' % snr_before)\n",
    "    \n",
    "    print('\\tpre-processing test segment %d' %i)\n",
    "    #pre-process noisy file\n",
    "    patch_size = (100,2) #both channels together\n",
    "    height,width = t.shape\n",
    "    test_patches = extract_patches_2d(t, patch_size)\n",
    "    test_patches = test_patches.reshape(test_patches.shape[0],-1)\n",
    "    #center the data\n",
    "    intercept = np.mean(test_patches, axis=0)\n",
    "    test_patches -= intercept\n",
    "    \n",
    "    print('\\tlearning the sparse code for test %d' %i)\n",
    "    t1 = time()\n",
    "    code = model.transform(test_patches) #this is sparse code\n",
    "    \n",
    "    print('\\trestoring test segment %d' %i)\n",
    "    #reconstruct the patches from the dot product of the sparse code and dictionary\n",
    "    recon_patches = np.dot(code, model.components_)\n",
    "    #uncenter the reconstructed data\n",
    "    recon_patches += intercept\n",
    "    #unstack the reconstructed patches\n",
    "    recon_patches = recon_patches.reshape(len(recon_patches), *patch_size)\n",
    "    restored = reconstruct_from_patches_2d(recon_patches, (height,width))\n",
    "    name = 'segment' + str(i) + '.wav'\n",
    "    sf.write(name,restored,samplerate)\n",
    "    n_after = c - restored\n",
    "    snr_after = SNR(c,n_after)\n",
    "    snr_after_mean += snr_after\n",
    "    snr_after_stdev.append(snr_after)\n",
    "    print('\\ttest %d done with SNR of %.3f completed in %.2fs' % (i, snr_after, time() - t1))\n",
    "    \n",
    "snr_before_mean = snr_before_mean / len(tests)\n",
    "snr_b_stdev = 0.0\n",
    "for x in snr_before_stdev:\n",
    "    snr_b_stdev += math.pow((x - snr_before_mean),2)\n",
    "snr_b_stdev = math.sqrt(snr_b_stdev / len(snr_before_stdev))\n",
    "\n",
    "snr_after_mean = snr_after_mean / len(tests)\n",
    "snr_a_stdev = 0.0\n",
    "for x in snr_after_stdev:\n",
    "    snr_a_stdev += math.pow((x - snr_after_mean),2)\n",
    "snr_a_stdev = math.sqrt(snr_a_stdev / len(snr_after_stdev))\n",
    "\n",
    "print('TEST COMPLETE in %.2fs\\nMean SNR before denoising %.3f\\tStd Dev %.3f\\nMean SNR after denoising %.3f\\tStd Dev %.3f' % ((time()-t0),snr_before_mean, snr_b_stdev,snr_after_mean, snr_a_stdev))"
   ]
  },
  {
   "cell_type": "code",
   "execution_count": 36,
   "metadata": {},
   "outputs": [
    {
     "name": "stdout",
     "output_type": "stream",
     "text": [
      "learning the dictionary, 500 components, using lars with batch size 0f 1000\n",
      "finished learning dictionary\n",
      "done in 4710.78s\n",
      "saving the file to solo_acapella_176-212-500-lars-1000.sav\n"
     ]
    }
   ],
   "source": [
    "#model = learnDictionary(train,'solo_acapella_176-212',100,'cd')\n",
    "#learnDictionary(train,'solo_acapella_176-212',500,'lars',100)\n",
    "#learnDictionary(train,'solo_acapella_176-212',500,'lars',1000)"
   ]
  },
  {
   "cell_type": "code",
   "execution_count": null,
   "metadata": {},
   "outputs": [],
   "source": []
  },
  {
   "cell_type": "code",
   "execution_count": null,
   "metadata": {},
   "outputs": [],
   "source": []
  },
  {
   "cell_type": "code",
   "execution_count": null,
   "metadata": {},
   "outputs": [],
   "source": []
  },
  {
   "cell_type": "code",
   "execution_count": null,
   "metadata": {},
   "outputs": [],
   "source": []
  },
  {
   "cell_type": "code",
   "execution_count": null,
   "metadata": {},
   "outputs": [],
   "source": []
  },
  {
   "cell_type": "code",
   "execution_count": 15,
   "metadata": {},
   "outputs": [
    {
     "data": {
      "image/png": "[encoded data removed]",
      "text/plain": [
       "<Figure size 864x432 with 2 Axes>"
      ]
     },
     "metadata": {
      "needs_background": "light"
     },
     "output_type": "display_data"
    }
   ],
   "source": [
    "noise = clean_2 - distorted\n",
    "sf.write('noise.wav',noise,samplerate)\n",
    "plotFile('noise.wav')"
   ]
  },
  {
   "cell_type": "code",
   "execution_count": 16,
   "metadata": {},
   "outputs": [
    {
     "name": "stdout",
     "output_type": "stream",
     "text": [
      "4021.948660704602\n"
     ]
    }
   ],
   "source": [
    "SSE(distorted,clean_2)"
   ]
  },
  {
   "cell_type": "code",
   "execution_count": 17,
   "metadata": {},
   "outputs": [
    {
     "data": {
      "image/png": "[encoded data removed]",
      "text/plain": [
       "<Figure size 864x432 with 2 Axes>"
      ]
     },
     "metadata": {
      "needs_background": "light"
     },
     "output_type": "display_data"
    }
   ],
   "source": [
    "sf.write('distorted.wav',distorted,samplerate)\n",
    "plotFile('distorted.wav')"
   ]
  },
  {
   "cell_type": "code",
   "execution_count": 18,
   "metadata": {},
   "outputs": [],
   "source": [
    "#Extract patches from first half of song, clean_1\n",
    "patch_size = (100,2) #both channels together\n",
    "patches = extract_patches_2d(clean_1,patch_size)\n",
    "patches = patches.reshape(patches.shape[0], -1)\n",
    "\n",
    "#normalize patches so we can learn the dictionary\n",
    "patches -= np.mean(patches, axis=0)\n",
    "patches /= np.std(patches, axis=0)"
   ]
  },
  {
   "cell_type": "code",
   "execution_count": 19,
   "metadata": {},
   "outputs": [
    {
     "data": {
      "text/plain": [
       "(5330929, 200)"
      ]
     },
     "execution_count": 19,
     "metadata": {},
     "output_type": "execute_result"
    }
   ],
   "source": [
    "patches.shape"
   ]
  },
  {
   "cell_type": "code",
   "execution_count": 23,
   "metadata": {},
   "outputs": [
    {
     "name": "stdout",
     "output_type": "stream",
     "text": [
      "done in 602.83s\n"
     ]
    }
   ],
   "source": [
    "#Learn dictionary\n",
    "t0 = time()\n",
    "dictionary = MiniBatchDictionaryLearning(n_components=100, alpha=1, n_jobs=-1)\n",
    "V = dictionary.fit(patches).components_ \n",
    "print('done in %.2fs' % (time() - t0))"
   ]
  },
  {
   "cell_type": "code",
   "execution_count": 24,
   "metadata": {},
   "outputs": [],
   "source": [
    "#pre-process noisy file\n",
    "distorted_patches = extract_patches_2d(distorted, patch_size)\n",
    "distorted_patches = distorted_patches.reshape(distorted_patches.shape[0],-1)\n",
    "\n",
    "#center the data\n",
    "intercept = np.mean(distorted_patches, axis=0)\n",
    "distorted_patches -= intercept"
   ]
  },
  {
   "cell_type": "code",
   "execution_count": null,
   "metadata": {},
   "outputs": [],
   "source": []
  },
  {
   "cell_type": "code",
   "execution_count": 28,
   "metadata": {},
   "outputs": [],
   "source": [
    "transform_algorithms = [\n",
    "    ('lasso_lars alpha=.001', 'lasso_lars', {'transform_alpha': 0.001}),\n",
    "    ('lasso_lars alpha=.01', 'lasso_lars', {'transform_alpha': 0.01}),\n",
    "    ('lasso_lars alpha=.1', 'lasso_lars', {'transform_alpha': 0.1}),\n",
    "    ('lasso_lars alpha=1', 'lasso_lars', {'transform_alpha': 1}),\n",
    "    ('lasso_cd alpha=.001', 'lasso_cd', {'transform_alpha': .001}),\n",
    "    ('lasso_cd alpha=.01', 'lasso_cd', {'transform_alpha': .01}),\n",
    "    ('lasso_cd alpha=.1', 'lasso_cd', {'transform_alpha': .1}),\n",
    "    ('lasso_cd alpha=1', 'lasso_cd', {'transform_alpha': 1}),\n",
    "    ('threshold alpha=.001', 'threshold', {'transform_alpha': .001}),\n",
    "    ('threshold alpha=.01', 'threshold', {'transform_alpha': .01}),\n",
    "    ('threshold alpha=.1', 'threshold', {'transform_alpha': .1}),\n",
    "    ('threshold alpha=1', 'threshold', {'transform_alpha': 1}),\n",
    "    ('lars 2 atom', 'lars', {'transform_n_nonzero_coefs': 2}),\n",
    "    ('lars 20 atom', 'lars', {'transform_n_nonzero_coefs': 20}),\n",
    "    ('lars 40 atom', 'lars', {'transform_n_nonzero_coefs': 40}),\n",
    "    ('omp 2 atoms', 'omp', {'transform_n_nonzero_coefs': 2}),\n",
    "    ('omp 16 atoms', 'omp', {'transform_n_nonzero_coefs': 16}),\n",
    "    ('omp 32 atoms', 'omp', {'transform_n_nonzero_coefs': 32})\n",
    "]"
   ]
  },
  {
   "cell_type": "code",
   "execution_count": 29,
   "metadata": {},
   "outputs": [],
   "source": [
    "comm=\"\"\"transform_algorithms = [\n",
    "    ('omp 16 atoms', 'omp', {'transform_n_nonzero_coefs': 16})\n",
    "]\"\"\""
   ]
  },
  {
   "cell_type": "code",
   "execution_count": 31,
   "metadata": {},
   "outputs": [
    {
     "name": "stdout",
     "output_type": "stream",
     "text": [
      "lasso_lars alpha=.001...\n"
     ]
    },
    {
     "ename": "KeyboardInterrupt",
     "evalue": "",
     "output_type": "error",
     "traceback": [
      "\u001b[1;31m---------------------------------------------------------------------------\u001b[0m",
      "\u001b[1;31mKeyboardInterrupt\u001b[0m                         Traceback (most recent call last)",
      "\u001b[1;32m<ipython-input-31-7d1c6d354e84>\u001b[0m in \u001b[0;36m<module>\u001b[1;34m\u001b[0m\n\u001b[0;32m      8\u001b[0m     \u001b[0mreconstructions\u001b[0m\u001b[1;33m[\u001b[0m\u001b[0mtitle\u001b[0m\u001b[1;33m]\u001b[0m \u001b[1;33m=\u001b[0m \u001b[0mdistorted\u001b[0m\u001b[1;33m.\u001b[0m\u001b[0mcopy\u001b[0m\u001b[1;33m(\u001b[0m\u001b[1;33m)\u001b[0m\u001b[1;33m\u001b[0m\u001b[0m\n\u001b[0;32m      9\u001b[0m     \u001b[0mdictionary\u001b[0m\u001b[1;33m.\u001b[0m\u001b[0mset_params\u001b[0m\u001b[1;33m(\u001b[0m\u001b[0mtransform_algorithm\u001b[0m\u001b[1;33m=\u001b[0m\u001b[0mtransform_algorithm\u001b[0m\u001b[1;33m,\u001b[0m\u001b[1;33m**\u001b[0m\u001b[0mkwargs\u001b[0m\u001b[1;33m)\u001b[0m\u001b[1;33m\u001b[0m\u001b[0m\n\u001b[1;32m---> 10\u001b[1;33m     \u001b[0mcode\u001b[0m \u001b[1;33m=\u001b[0m \u001b[0mdictionary\u001b[0m\u001b[1;33m.\u001b[0m\u001b[0mtransform\u001b[0m\u001b[1;33m(\u001b[0m\u001b[0mdistorted_patches\u001b[0m\u001b[1;33m)\u001b[0m \u001b[1;31m#this is sparse code\u001b[0m\u001b[1;33m\u001b[0m\u001b[0m\n\u001b[0m\u001b[0;32m     11\u001b[0m     \u001b[1;31m#reconstruct the patches from the dot product of the sparse code and dictionary\u001b[0m\u001b[1;33m\u001b[0m\u001b[1;33m\u001b[0m\u001b[0m\n\u001b[0;32m     12\u001b[0m     \u001b[0mrecon_patches\u001b[0m \u001b[1;33m=\u001b[0m \u001b[0mnp\u001b[0m\u001b[1;33m.\u001b[0m\u001b[0mdot\u001b[0m\u001b[1;33m(\u001b[0m\u001b[0mcode\u001b[0m\u001b[1;33m,\u001b[0m \u001b[0mV\u001b[0m\u001b[1;33m)\u001b[0m\u001b[1;33m\u001b[0m\u001b[0m\n",
      "\u001b[1;32mC:\\Python3\\lib\\site-packages\\sklearn\\decomposition\\dict_learning.py\u001b[0m in \u001b[0;36mtransform\u001b[1;34m(self, X)\u001b[0m\n\u001b[0;32m    892\u001b[0m             \u001b[0mn_nonzero_coefs\u001b[0m\u001b[1;33m=\u001b[0m\u001b[0mself\u001b[0m\u001b[1;33m.\u001b[0m\u001b[0mtransform_n_nonzero_coefs\u001b[0m\u001b[1;33m,\u001b[0m\u001b[1;33m\u001b[0m\u001b[0m\n\u001b[0;32m    893\u001b[0m             \u001b[0malpha\u001b[0m\u001b[1;33m=\u001b[0m\u001b[0mself\u001b[0m\u001b[1;33m.\u001b[0m\u001b[0mtransform_alpha\u001b[0m\u001b[1;33m,\u001b[0m \u001b[0mn_jobs\u001b[0m\u001b[1;33m=\u001b[0m\u001b[0mself\u001b[0m\u001b[1;33m.\u001b[0m\u001b[0mn_jobs\u001b[0m\u001b[1;33m,\u001b[0m\u001b[1;33m\u001b[0m\u001b[0m\n\u001b[1;32m--> 894\u001b[1;33m             positive=self.positive_code)\n\u001b[0m\u001b[0;32m    895\u001b[0m \u001b[1;33m\u001b[0m\u001b[0m\n\u001b[0;32m    896\u001b[0m         \u001b[1;32mif\u001b[0m \u001b[0mself\u001b[0m\u001b[1;33m.\u001b[0m\u001b[0msplit_sign\u001b[0m\u001b[1;33m:\u001b[0m\u001b[1;33m\u001b[0m\u001b[0m\n",
      "\u001b[1;32mC:\\Python3\\lib\\site-packages\\sklearn\\decomposition\\dict_learning.py\u001b[0m in \u001b[0;36msparse_encode\u001b[1;34m(X, dictionary, gram, cov, algorithm, n_nonzero_coefs, alpha, copy_cov, init, max_iter, n_jobs, check_input, verbose, positive)\u001b[0m\n\u001b[0;32m    311\u001b[0m                               \u001b[0mcheck_input\u001b[0m\u001b[1;33m=\u001b[0m\u001b[1;32mFalse\u001b[0m\u001b[1;33m,\u001b[0m\u001b[1;33m\u001b[0m\u001b[0m\n\u001b[0;32m    312\u001b[0m                               \u001b[0mverbose\u001b[0m\u001b[1;33m=\u001b[0m\u001b[0mverbose\u001b[0m\u001b[1;33m,\u001b[0m\u001b[1;33m\u001b[0m\u001b[0m\n\u001b[1;32m--> 313\u001b[1;33m                               positive=positive)\n\u001b[0m\u001b[0;32m    314\u001b[0m         \u001b[1;32mreturn\u001b[0m \u001b[0mcode\u001b[0m\u001b[1;33m\u001b[0m\u001b[0m\n\u001b[0;32m    315\u001b[0m \u001b[1;33m\u001b[0m\u001b[0m\n",
      "\u001b[1;32mC:\\Python3\\lib\\site-packages\\sklearn\\decomposition\\dict_learning.py\u001b[0m in \u001b[0;36m_sparse_encode\u001b[1;34m(X, dictionary, gram, cov, algorithm, regularization, copy_cov, init, max_iter, check_input, verbose, positive)\u001b[0m\n\u001b[0;32m    121\u001b[0m                                    \u001b[0mprecompute\u001b[0m\u001b[1;33m=\u001b[0m\u001b[0mgram\u001b[0m\u001b[1;33m,\u001b[0m \u001b[0mfit_path\u001b[0m\u001b[1;33m=\u001b[0m\u001b[1;32mFalse\u001b[0m\u001b[1;33m,\u001b[0m\u001b[1;33m\u001b[0m\u001b[0m\n\u001b[0;32m    122\u001b[0m                                    positive=positive)\n\u001b[1;32m--> 123\u001b[1;33m             \u001b[0mlasso_lars\u001b[0m\u001b[1;33m.\u001b[0m\u001b[0mfit\u001b[0m\u001b[1;33m(\u001b[0m\u001b[0mdictionary\u001b[0m\u001b[1;33m.\u001b[0m\u001b[0mT\u001b[0m\u001b[1;33m,\u001b[0m \u001b[0mX\u001b[0m\u001b[1;33m.\u001b[0m\u001b[0mT\u001b[0m\u001b[1;33m,\u001b[0m \u001b[0mXy\u001b[0m\u001b[1;33m=\u001b[0m\u001b[0mcov\u001b[0m\u001b[1;33m)\u001b[0m\u001b[1;33m\u001b[0m\u001b[0m\n\u001b[0m\u001b[0;32m    124\u001b[0m             \u001b[0mnew_code\u001b[0m \u001b[1;33m=\u001b[0m \u001b[0mlasso_lars\u001b[0m\u001b[1;33m.\u001b[0m\u001b[0mcoef_\u001b[0m\u001b[1;33m\u001b[0m\u001b[0m\n\u001b[0;32m    125\u001b[0m         \u001b[1;32mfinally\u001b[0m\u001b[1;33m:\u001b[0m\u001b[1;33m\u001b[0m\u001b[0m\n",
      "\u001b[1;32mC:\\Python3\\lib\\site-packages\\sklearn\\linear_model\\least_angle.py\u001b[0m in \u001b[0;36mfit\u001b[1;34m(self, X, y, Xy)\u001b[0m\n\u001b[0;32m    706\u001b[0m \u001b[1;33m\u001b[0m\u001b[0m\n\u001b[0;32m    707\u001b[0m         self._fit(X, y, max_iter=max_iter, alpha=alpha, fit_path=self.fit_path,\n\u001b[1;32m--> 708\u001b[1;33m                   Xy=Xy)\n\u001b[0m\u001b[0;32m    709\u001b[0m \u001b[1;33m\u001b[0m\u001b[0m\n\u001b[0;32m    710\u001b[0m         \u001b[1;32mreturn\u001b[0m \u001b[0mself\u001b[0m\u001b[1;33m\u001b[0m\u001b[0m\n",
      "\u001b[1;32mC:\\Python3\\lib\\site-packages\\sklearn\\linear_model\\least_angle.py\u001b[0m in \u001b[0;36m_fit\u001b[1;34m(self, X, y, max_iter, alpha, fit_path, Xy)\u001b[0m\n\u001b[0;32m    665\u001b[0m                     \u001b[0mverbose\u001b[0m\u001b[1;33m=\u001b[0m\u001b[0mmax\u001b[0m\u001b[1;33m(\u001b[0m\u001b[1;36m0\u001b[0m\u001b[1;33m,\u001b[0m \u001b[0mself\u001b[0m\u001b[1;33m.\u001b[0m\u001b[0mverbose\u001b[0m \u001b[1;33m-\u001b[0m \u001b[1;36m1\u001b[0m\u001b[1;33m)\u001b[0m\u001b[1;33m,\u001b[0m \u001b[0mmax_iter\u001b[0m\u001b[1;33m=\u001b[0m\u001b[0mmax_iter\u001b[0m\u001b[1;33m,\u001b[0m\u001b[1;33m\u001b[0m\u001b[0m\n\u001b[0;32m    666\u001b[0m                     \u001b[0meps\u001b[0m\u001b[1;33m=\u001b[0m\u001b[0mself\u001b[0m\u001b[1;33m.\u001b[0m\u001b[0meps\u001b[0m\u001b[1;33m,\u001b[0m \u001b[0mreturn_path\u001b[0m\u001b[1;33m=\u001b[0m\u001b[1;32mFalse\u001b[0m\u001b[1;33m,\u001b[0m \u001b[0mreturn_n_iter\u001b[0m\u001b[1;33m=\u001b[0m\u001b[1;32mTrue\u001b[0m\u001b[1;33m,\u001b[0m\u001b[1;33m\u001b[0m\u001b[0m\n\u001b[1;32m--> 667\u001b[1;33m                     positive=self.positive)\n\u001b[0m\u001b[0;32m    668\u001b[0m                 \u001b[0mself\u001b[0m\u001b[1;33m.\u001b[0m\u001b[0malphas_\u001b[0m\u001b[1;33m.\u001b[0m\u001b[0mappend\u001b[0m\u001b[1;33m(\u001b[0m\u001b[0malphas\u001b[0m\u001b[1;33m)\u001b[0m\u001b[1;33m\u001b[0m\u001b[0m\n\u001b[0;32m    669\u001b[0m                 \u001b[0mself\u001b[0m\u001b[1;33m.\u001b[0m\u001b[0mn_iter_\u001b[0m\u001b[1;33m.\u001b[0m\u001b[0mappend\u001b[0m\u001b[1;33m(\u001b[0m\u001b[0mn_iter_\u001b[0m\u001b[1;33m)\u001b[0m\u001b[1;33m\u001b[0m\u001b[0m\n",
      "\u001b[1;32mC:\\Python3\\lib\\site-packages\\sklearn\\linear_model\\least_angle.py\u001b[0m in \u001b[0;36mlars_path\u001b[1;34m(X, y, Xy, Gram, max_iter, alpha_min, method, copy_X, eps, copy_Gram, verbose, return_path, return_n_iter, positive)\u001b[0m\n\u001b[0;32m    288\u001b[0m                                         **solve_triangular_args)\n\u001b[0;32m    289\u001b[0m \u001b[1;33m\u001b[0m\u001b[0m\n\u001b[1;32m--> 290\u001b[1;33m             \u001b[0mv\u001b[0m \u001b[1;33m=\u001b[0m \u001b[0mnp\u001b[0m\u001b[1;33m.\u001b[0m\u001b[0mdot\u001b[0m\u001b[1;33m(\u001b[0m\u001b[0mL\u001b[0m\u001b[1;33m[\u001b[0m\u001b[0mn_active\u001b[0m\u001b[1;33m,\u001b[0m \u001b[1;33m:\u001b[0m\u001b[0mn_active\u001b[0m\u001b[1;33m]\u001b[0m\u001b[1;33m,\u001b[0m \u001b[0mL\u001b[0m\u001b[1;33m[\u001b[0m\u001b[0mn_active\u001b[0m\u001b[1;33m,\u001b[0m \u001b[1;33m:\u001b[0m\u001b[0mn_active\u001b[0m\u001b[1;33m]\u001b[0m\u001b[1;33m)\u001b[0m\u001b[1;33m\u001b[0m\u001b[0m\n\u001b[0m\u001b[0;32m    291\u001b[0m             \u001b[0mdiag\u001b[0m \u001b[1;33m=\u001b[0m \u001b[0mmax\u001b[0m\u001b[1;33m(\u001b[0m\u001b[0mnp\u001b[0m\u001b[1;33m.\u001b[0m\u001b[0msqrt\u001b[0m\u001b[1;33m(\u001b[0m\u001b[0mnp\u001b[0m\u001b[1;33m.\u001b[0m\u001b[0mabs\u001b[0m\u001b[1;33m(\u001b[0m\u001b[0mc\u001b[0m \u001b[1;33m-\u001b[0m \u001b[0mv\u001b[0m\u001b[1;33m)\u001b[0m\u001b[1;33m)\u001b[0m\u001b[1;33m,\u001b[0m \u001b[0meps\u001b[0m\u001b[1;33m)\u001b[0m\u001b[1;33m\u001b[0m\u001b[0m\n\u001b[0;32m    292\u001b[0m             \u001b[0mL\u001b[0m\u001b[1;33m[\u001b[0m\u001b[0mn_active\u001b[0m\u001b[1;33m,\u001b[0m \u001b[0mn_active\u001b[0m\u001b[1;33m]\u001b[0m \u001b[1;33m=\u001b[0m \u001b[0mdiag\u001b[0m\u001b[1;33m\u001b[0m\u001b[0m\n",
      "\u001b[1;31mKeyboardInterrupt\u001b[0m: "
     ]
    }
   ],
   "source": [
    "#for loop on the transform_algorithms to compare all these against the task\n",
    "#need a print function so we can see them side by side\n",
    "#need a measure to compare by\n",
    "reconstructions = {}\n",
    "for title, transform_algorithm, kwargs in transform_algorithms:\n",
    "    t0 = time\n",
    "    print(title + '...')\n",
    "    reconstructions[title] = distorted.copy()\n",
    "    dictionary.set_params(transform_algorithm=transform_algorithm,**kwargs)\n",
    "    code = dictionary.transform(distorted_patches) #this is sparse code\n",
    "    #reconstruct the patches from the dot product of the sparse code and dictionary\n",
    "    recon_patches = np.dot(code, V)\n",
    "    #uncenter the reconstructed data\n",
    "    recon_patches += intercept\n",
    "    #unstack the reconstructed patches\n",
    "    recon_patches = recon_patches.reshape(len(distorted_patches), *patch_size)\n",
    "    #Threshold isn't working for some reason\n",
    "    #if transform_algorithm == 'threshold':\n",
    "    #    recon_patches -= recon_patches.min()\n",
    "    #    recon_patches /= recon_patches.max()\n",
    "    reconstructions[title] = reconstruct_from_patches_2d(recon_patches, (height,width))\n",
    "    #compareFiles(reconstructions[title],clean_data,title)\n",
    "    s = SSE(distorted, clean_2)\n",
    "    compareFiles(reconstructions[title],distorted,clean_2,title)\n",
    "    print('done in %.2fs' % (time() - t0))\n",
    "    "
   ]
  },
  {
   "cell_type": "code",
   "execution_count": null,
   "metadata": {},
   "outputs": [],
   "source": []
  }
 ],
 "metadata": {
  "kernelspec": {
   "display_name": "Python 3",
   "language": "python",
   "name": "python3"
  },
  "language_info": {
   "codemirror_mode": {
    "name": "ipython",
    "version": 3
   },
   "file_extension": ".py",
   "mimetype": "text/x-python",
   "name": "python",
   "nbconvert_exporter": "python",
   "pygments_lexer": "ipython3",
   "version": "3.6.7"
  }
 },
 "nbformat": 4,
 "nbformat_minor": 2
}
